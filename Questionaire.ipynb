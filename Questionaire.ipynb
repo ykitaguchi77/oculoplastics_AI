{
  "nbformat": 4,
  "nbformat_minor": 0,
  "metadata": {
    "colab": {
      "name": "Untitled65.ipynb",
      "provenance": [],
      "authorship_tag": "ABX9TyPL5rFcVH9DImNdo3An39N8",
      "include_colab_link": true
    },
    "kernelspec": {
      "name": "python3",
      "display_name": "Python 3"
    },
    "language_info": {
      "name": "python"
    }
  },
  "cells": [
    {
      "cell_type": "markdown",
      "metadata": {
        "id": "view-in-github",
        "colab_type": "text"
      },
      "source": [
        "<a href=\"https://colab.research.google.com/github/ykitaguchi77/oculoplastics_AI/blob/main/Questionaire.ipynb\" target=\"_parent\"><img src=\"https://colab.research.google.com/assets/colab-badge.svg\" alt=\"Open In Colab\"/></a>"
      ]
    },
    {
      "cell_type": "code",
      "metadata": {
        "colab": {
          "base_uri": "https://localhost:8080/"
        },
        "id": "mJBdYllyLOaI",
        "outputId": "540e5a84-6329-4721-e718-406a8bae0516"
      },
      "source": [
        "Date = '' #@param {type:\"date\"}\n",
        "Surgeon = 'Unknown' #@param [\"Unknown\", \"Noda\", \"Zheng\", \"Katou\", \"Kitaguchi\"]\n",
        "Patient_ID = '' #@param {type:\"string\"}\n",
        "Age = 62 #@param {type:\"slider\", min:0, max:100, step:1}\n",
        "Gender = 'Unknown' #@param [\"Unknown\", \"Male\", \"Female\"]\n",
        "\n",
        "#@markdown ---\n",
        "\n",
        "#@markdown ##**目が疲れる**\n",
        "q1 = 50 #@param {type:\"slider\", min:0, max:100, step:1}\n",
        "#@markdown ##**目の奥が痛い**\n",
        "q2 = 50 #@param {type:\"slider\", min:0, max:100, step:1}\n",
        "#@markdown ##**目が乾く**\n",
        "q3 = 50 #@param {type:\"slider\", min:0, max:100, step:1}\n",
        "#@markdown ##**焦点が合いづらい**\n",
        "q4 = 50 #@param {type:\"slider\", min:0, max:100, step:1}\n",
        "#@markdown ##**ものが2重に見える**\n",
        "q5 = 50 #@param {type:\"slider\", min:0, max:100, step:1}\n",
        "#@markdown ##**頭痛がする**\n",
        "q6 = 50 #@param {type:\"slider\", min:0, max:100, step:1}\n",
        "#@markdown ## **肩がこる**\n",
        "q7 = 50 #@param {type:\"slider\", min:0, max:100, step:1}\n",
        "#@markdown ## **ものがちらついて見える**\n",
        "q8 = 50 #@param {type:\"slider\", min:0, max:100, step:1}\n",
        "#@markdown ## **いらいらする**\n",
        "q9 = 50 #@param {type:\"slider\", min:0, max:100, step:1}\n",
        "#@markdown ## **寝つきが悪い**\n",
        "q10 = 50 #@param {type:\"slider\", min:0, max:100, step:1}\n",
        "\n",
        "\n",
        "print(\"Date: \"+str(Date))\n",
        "print(\"Surgeon: \"+str(Surgeon))\n",
        "print(\"Patient_ID: \"+str(Patient_ID))\n",
        "print(\"Age: \"+str(Age))\n",
        "print(\"Gender: \"+ Gender)\n",
        "print(\"\")\n",
        "print(\"目が疲れる: \"+str(q1))\n",
        "print(\"目の奥が痛い: \"+str(q2))\n",
        "print(\"目が乾く: \"+str(q3))\n",
        "print(\"焦点が合いづらい: \"+str(q4))\n",
        "print(\"ものが2重に見える: \"+str(q5))\n",
        "print(\"頭痛がする: \"+str(q6))\n",
        "print(\"肩がこる: \"+str(q7))\n",
        "print(\"ものがちらついて見える: \"+str(q8))\n",
        "print(\"いらいらする: \"+str(q9))\n",
        "print(\"寝つきが悪い: \"+str(q10))\n",
        "\n"
      ],
      "execution_count": 12,
      "outputs": [
        {
          "output_type": "stream",
          "name": "stdout",
          "text": [
            "Date: \n",
            "Surgeon: Unknown\n",
            "Patient_ID: \n",
            "Age: 62\n",
            "Gender: Unknown\n",
            "\n",
            "目が疲れる: 50\n",
            "目の奥が痛い: 50\n",
            "目が乾く: 50\n",
            "焦点が合いづらい: 50\n",
            "ものが2重に見える: 50\n",
            "頭痛がする: 50\n",
            "肩がこる: 50\n",
            "ものがちらついて見える: 50\n",
            "いらいらする: 50\n",
            "寝つきが悪い: 50\n"
          ]
        }
      ]
    },
    {
      "cell_type": "code",
      "metadata": {
        "colab": {
          "base_uri": "https://localhost:8080/",
          "height": 134
        },
        "id": "Dqq3R-zuOuEM",
        "outputId": "ff45aff1-1499-4169-a1a3-14b929b856b7"
      },
      "source": [
        ""
      ],
      "execution_count": 9,
      "outputs": [
        {
          "output_type": "error",
          "ename": "SyntaxError",
          "evalue": "ignored",
          "traceback": [
            "\u001b[0;36m  File \u001b[0;32m\"<ipython-input-9-fcce85617136>\"\u001b[0;36m, line \u001b[0;32m2\u001b[0m\n\u001b[0;31m    1 = 50 #@param {type:\"slider\", min:0, max:100, step:1}\u001b[0m\n\u001b[0m                                                          ^\u001b[0m\n\u001b[0;31mSyntaxError\u001b[0m\u001b[0;31m:\u001b[0m can't assign to literal\n"
          ]
        }
      ]
    }
  ]
}